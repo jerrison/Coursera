{
 "cells": [
  {
   "cell_type": "markdown",
   "metadata": {},
   "source": [
    "## Module 2: Supervised Machine Learning"
   ]
  },
  {
   "cell_type": "markdown",
   "metadata": {},
   "source": [
    "### Ridge Regression\n",
    "-  The addition of a parameter penalty is called **regularization**.  Regularization prevents overfitting by restricting the model, typically to reduce its complexity.\n",
    "-  The *alpha* parameter controls regularization.  **Higher alpha** results in a **higher regularization**."
   ]
  },
  {
   "cell_type": "markdown",
   "metadata": {},
   "source": [
    "### The Need for Feature Normalization\n",
    "*  Important for some machine learning methods that all features are on the same scale (e.g., more uniform or 'fair' influence for all weights).  Some methods that require it:\n",
    "    *  regularized regression (ridge)\n",
    "    *  k-NN\n",
    "    *  SVM\n",
    "    *  neural networks\n",
    "*  An example is the MinMaxScaler from the sklearn.preprocessing module\n",
    "*  Regularization works well when the training set is small relative to the number of features and becomes less important as the amount of data increases."
   ]
  },
  {
   "cell_type": "markdown",
   "metadata": {},
   "source": [
    "#### MixMaxScaler\n",
    "*  Must fit scaler with training data\n",
    "*  Apply same transformation to training and test set\n",
    "*  If the fit is done with test data, data leakage occurs"
   ]
  },
  {
   "cell_type": "markdown",
   "metadata": {},
   "source": [
    "### Lasso regression\n",
    "*  L1 penalty instead of Ridge regression's L2 penalty.  The penalty is the alpha parameter times the absolute value of the weights.\n",
    "*  The effect of the penalty is to set the weights to zero for the least significant variables.  This is called a *sparse* solution: a kind of feature selection.\n",
    "*  In general:\n",
    "    *  Use Ridge regression if you believe that many features have small/medium sized effects\n",
    "    *  Use lasso regression if you believe that a few features have large effects"
   ]
  },
  {
   "cell_type": "markdown",
   "metadata": {},
   "source": [
    "### Polynomial Regression\n",
    "*  Model captures possible interaction between variables by adding coefficients for the multiplicative terms of the original features.\n",
    "*  Adding too many terms can lead to overfitting.\n",
    "    *  Often regularized with ridge regression (or other techniques)."
   ]
  },
  {
   "cell_type": "code",
   "execution_count": null,
   "metadata": {},
   "outputs": [],
   "source": []
  }
 ],
 "metadata": {
  "kernelspec": {
   "display_name": "Python 3",
   "language": "python",
   "name": "python3"
  },
  "language_info": {
   "codemirror_mode": {
    "name": "ipython",
    "version": 3
   },
   "file_extension": ".py",
   "mimetype": "text/x-python",
   "name": "python",
   "nbconvert_exporter": "python",
   "pygments_lexer": "ipython3",
   "version": "3.6.4"
  },
  "toc": {
   "nav_menu": {},
   "number_sections": true,
   "sideBar": true,
   "skip_h1_title": false,
   "toc_cell": false,
   "toc_position": {},
   "toc_section_display": "block",
   "toc_window_display": false
  },
  "varInspector": {
   "cols": {
    "lenName": 16,
    "lenType": 16,
    "lenVar": 40
   },
   "kernels_config": {
    "python": {
     "delete_cmd_postfix": "",
     "delete_cmd_prefix": "del ",
     "library": "var_list.py",
     "varRefreshCmd": "print(var_dic_list())"
    },
    "r": {
     "delete_cmd_postfix": ") ",
     "delete_cmd_prefix": "rm(",
     "library": "var_list.r",
     "varRefreshCmd": "cat(var_dic_list()) "
    }
   },
   "types_to_exclude": [
    "module",
    "function",
    "builtin_function_or_method",
    "instance",
    "_Feature"
   ],
   "window_display": false
  }
 },
 "nbformat": 4,
 "nbformat_minor": 2
}
