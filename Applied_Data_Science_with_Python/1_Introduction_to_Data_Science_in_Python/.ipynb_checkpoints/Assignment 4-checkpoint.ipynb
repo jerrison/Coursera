{
 "cells": [
  {
   "cell_type": "markdown",
   "metadata": {},
   "source": [
    "---\n",
    "\n",
    "_You are currently looking at **version 1.1** of this notebook. To download notebooks and datafiles, as well as get help on Jupyter notebooks in the Coursera platform, visit the [Jupyter Notebook FAQ](https://www.coursera.org/learn/python-data-analysis/resources/0dhYG) course resource._\n",
    "\n",
    "---"
   ]
  },
  {
   "cell_type": "code",
   "execution_count": 7,
   "metadata": {
    "collapsed": true
   },
   "outputs": [],
   "source": [
    "import pandas as pd\n",
    "import numpy as np\n",
    "from scipy.stats import ttest_ind\n",
    "import re"
   ]
  },
  {
   "cell_type": "markdown",
   "metadata": {},
   "source": [
    "# Assignment 4 - Hypothesis Testing\n",
    "This assignment requires more individual learning than previous assignments - you are encouraged to check out the [pandas documentation](http://pandas.pydata.org/pandas-docs/stable/) to find functions or methods you might not have used yet, or ask questions on [Stack Overflow](http://stackoverflow.com/) and tag them as pandas and python related. And of course, the discussion forums are open for interaction with your peers and the course staff.\n",
    "\n",
    "Definitions:\n",
    "* A _quarter_ is a specific three month period, Q1 is January through March, Q2 is April through June, Q3 is July through September, Q4 is October through December.\n",
    "* A _recession_ is defined as starting with two consecutive quarters of GDP decline, and ending with two consecutive quarters of GDP growth.\n",
    "* A _recession bottom_ is the quarter within a recession which had the lowest GDP.\n",
    "* A _university town_ is a city which has a high percentage of university students compared to the total population of the city.\n",
    "\n",
    "**Hypothesis**: University towns have their mean housing prices less effected by recessions. Run a t-test to compare the ratio of the mean price of houses in university towns the quarter before the recession starts compared to the recession bottom. (`price_ratio=quarter_before_recession/recession_bottom`)\n",
    "\n",
    "The following data files are available for this assignment:\n",
    "* From the [Zillow research data site](http://www.zillow.com/research/data/) there is housing data for the United States. In particular the datafile for [all homes at a city level](http://files.zillowstatic.com/research/public/City/City_Zhvi_AllHomes.csv), ```City_Zhvi_AllHomes.csv```, has median home sale prices at a fine grained level.\n",
    "* From the Wikipedia page on college towns is a list of [university towns in the United States](https://en.wikipedia.org/wiki/List_of_college_towns#College_towns_in_the_United_States) which has been copy and pasted into the file ```university_towns.txt```.\n",
    "* From Bureau of Economic Analysis, US Department of Commerce, the [GDP over time](http://www.bea.gov/national/index.htm#gdp) of the United States in current dollars (use the chained value in 2009 dollars), in quarterly intervals, in the file ```gdplev.xls```. For this assignment, only look at GDP data from the first quarter of 2000 onward.\n",
    "\n",
    "Each function in this assignment below is worth 10%, with the exception of ```run_ttest()```, which is worth 50%."
   ]
  },
  {
   "cell_type": "code",
   "execution_count": 13,
   "metadata": {},
   "outputs": [],
   "source": [
    "# Use this dictionary to map state names to two letter acronyms\n",
    "states = {'OH': 'Ohio', 'KY': 'Kentucky', 'AS': 'American Samoa', 'NV': 'Nevada', 'WY': 'Wyoming', 'NA': 'National', 'AL': 'Alabama', 'MD': 'Maryland', 'AK': 'Alaska', 'UT': 'Utah', 'OR': 'Oregon', 'MT': 'Montana', 'IL': 'Illinois', 'TN': 'Tennessee', 'DC': 'District of Columbia', 'VT': 'Vermont', 'ID': 'Idaho', 'AR': 'Arkansas', 'ME': 'Maine', 'WA': 'Washington', 'HI': 'Hawaii', 'WI': 'Wisconsin', 'MI': 'Michigan', 'IN': 'Indiana', 'NJ': 'New Jersey', 'AZ': 'Arizona', 'GU': 'Guam', 'MS': 'Mississippi', 'PR': 'Puerto Rico', 'NC': 'North Carolina', 'TX': 'Texas', 'SD': 'South Dakota', 'MP': 'Northern Mariana Islands', 'IA': 'Iowa', 'MO': 'Missouri', 'CT': 'Connecticut', 'WV': 'West Virginia', 'SC': 'South Carolina', 'LA': 'Louisiana', 'KS': 'Kansas', 'NY': 'New York', 'NE': 'Nebraska', 'OK': 'Oklahoma', 'FL': 'Florida', 'CA': 'California', 'CO': 'Colorado', 'PA': 'Pennsylvania', 'DE': 'Delaware', 'NM': 'New Mexico', 'RI': 'Rhode Island', 'MN': 'Minnesota', 'VI': 'Virgin Islands', 'NH': 'New Hampshire', 'MA': 'Massachusetts', 'GA': 'Georgia', 'ND': 'North Dakota', 'VA': 'Virginia'}"
   ]
  },
  {
   "cell_type": "code",
   "execution_count": null,
   "metadata": {},
   "outputs": [],
   "source": [
    "def get_list_of_university_towns():\n",
    "    '''Returns a DataFrame of towns and the states they are in from the \n",
    "    university_towns.txt list. The format of the DataFrame should be:\n",
    "    DataFrame( [ [\"Michigan\", \"Ann Arbor\"], [\"Michigan\", \"Yipsilanti\"] ], \n",
    "    columns=[\"State\", \"RegionName\"]  )\n",
    "    \n",
    "    The following cleaning needs to be done:\n",
    "\n",
    "    1. For \"State\", removing characters from \"[\" to the end.\n",
    "    2. For \"RegionName\", when applicable, removing every character from \" (\" to the end.\n",
    "    3. Depending on how you read the data, you may need to remove newline character '\\n'. '''\n",
    "    \n",
    "    \n",
    "    data = pd.read_table('university_towns.txt', header=None)\n",
    "\n",
    "    state_pattern = re.compile(\"(\\S+)\\[edit\\]\")\n",
    "\n",
    "    state_list = []\n",
    "    city_list = []\n",
    "\n",
    "    for item in data[0]:\n",
    "        if state_pattern.search(item):\n",
    "            current_state = item\n",
    "            continue\n",
    "        state_list.append(current_state)\n",
    "        city_list.append(item)\n",
    "\n",
    "    list_of_towns = pd.DataFrame({'State': state_list,\n",
    "                                  'RegionName': city_list})\n",
    "\n",
    "    list_of_towns = list_of_towns.replace('\\[edit\\]| \\(.*', '', regex=True)\n",
    "\n",
    "    \n",
    "    return list_of_towns\n"
   ]
  },
  {
   "cell_type": "code",
   "execution_count": 90,
   "metadata": {},
   "outputs": [
    {
     "data": {
      "text/plain": [
       "'2008q3'"
      ]
     },
     "execution_count": 90,
     "metadata": {},
     "output_type": "execute_result"
    }
   ],
   "source": [
    "def get_recession_start():\n",
    "    '''Returns the year and quarter of the recession start time as a \n",
    "    string value in a format such as 2005q3'''\n",
    "    \n",
    "    gdp = pd.read_excel('gdplev.xls', skiprows=7, usecols=[4, 5, 6])\n",
    "    gdp.columns= ['CYQ', 'GDP in billions of current dollars',\n",
    "                  'GDP in billions of chained 2009 dollars']\n",
    "\n",
    "    # extracting quarters from 2000 and on\n",
    "    gdp = gdp[gdp['CYQ'].str[:4].astype(int)>= 2000]\n",
    "\n",
    "    gdp['difference_2009'] = gdp['GDP in billions of chained 2009 dollars'].diff()\n",
    "    gdp['signal'] = gdp['difference_2009'] < 0\n",
    "    gdp['signal'] = gdp['signal'].apply(lambda z:1 if z else 0)\n",
    "\n",
    "\n",
    "    # Boolean indexers for recession start and stops.\n",
    "    rec_start = (gdp['signal'] == 1) & (gdp['signal'].shift(-1) == 1)\n",
    "    rec_end = (gdp['signal'] == 0) & (gdp['signal'].shift(-1) == 0)\n",
    "\n",
    "    # Mark the recession start/stops as True/False.\n",
    "    gdp.loc[rec_start, 'recession'] = True\n",
    "    gdp.loc[rec_end, 'recession'] = False\n",
    "\n",
    "    # Forward fill the recession column with the last known Boolean.\n",
    "    # Fill any NaN's as False (i.e. locations before the first start/stop).\n",
    "    gdp['recession'] = gdp['recession'].ffill().fillna(False)\n",
    "    \n",
    "    return gdp[gdp['recession'] == True]['CYQ'].min()\n"
   ]
  },
  {
   "cell_type": "code",
   "execution_count": 112,
   "metadata": {},
   "outputs": [
    {
     "data": {
      "text/plain": [
       "'2009q4'"
      ]
     },
     "execution_count": 112,
     "metadata": {},
     "output_type": "execute_result"
    }
   ],
   "source": [
    "def get_recession_end():\n",
    "    '''Returns the year and quarter of the recession end time as a \n",
    "    string value in a format such as 2005q3'''\n",
    "       \n",
    "    gdp = pd.read_excel('gdplev.xls', skiprows=7, usecols=[4, 5, 6])\n",
    "    gdp.columns= ['CYQ', 'GDP in billions of current dollars',\n",
    "                  'GDP in billions of chained 2009 dollars']\n",
    "\n",
    "    # extracting quarters from 2000 and on\n",
    "    gdp = gdp[gdp['CYQ'].str[:4].astype(int)>= 2000]\n",
    "\n",
    "    gdp['difference_2009'] = gdp['GDP in billions of chained 2009 dollars'].diff()\n",
    "    gdp['signal'] = gdp['difference_2009'] < 0\n",
    "    gdp['signal'] = gdp['signal'].apply(lambda z:1 if z else 0)\n",
    "\n",
    "\n",
    "    # Boolean indexers for recession start and stops.\n",
    "    rec_start = (gdp['signal'] == 1) & (gdp['signal'].shift(-1) == 1)\n",
    "    rec_end = (gdp['signal'] == 0) & (gdp['signal'].shift(-1) == 0)\n",
    "\n",
    "    # Mark the recession start/stops as True/False.\n",
    "    gdp.loc[rec_start, 'recession'] = True\n",
    "    gdp.loc[rec_end, 'recession'] = False\n",
    "\n",
    "    # Forward fill the recession column with the last known Boolean.\n",
    "    # Fill any NaN's as False (i.e. locations before the first start/stop).\n",
    "    gdp['recession'] = gdp['recession'].ffill().fillna(False)\n",
    "    \n",
    "    return gdp[(gdp['recession'] == False) & \n",
    "               (gdp['CYQ'] > get_recession_start())]['CYQ'].values[1]\n"
   ]
  },
  {
   "cell_type": "code",
   "execution_count": 106,
   "metadata": {},
   "outputs": [
    {
     "data": {
      "text/plain": [
       "'2009q2'"
      ]
     },
     "execution_count": 106,
     "metadata": {},
     "output_type": "execute_result"
    }
   ],
   "source": [
    "def get_recession_bottom():\n",
    "    '''Returns the year and quarter of the recession bottom time as a \n",
    "    string value in a format such as 2005q3'''\n",
    "    \n",
    "    gdp = pd.read_excel('gdplev.xls', skiprows=7, usecols=[4, 5, 6])\n",
    "    gdp.columns= ['CYQ', 'GDP in billions of current dollars',\n",
    "                  'GDP in billions of chained 2009 dollars']\n",
    "\n",
    "    # extracting quarters from 2000 and on\n",
    "    gdp = gdp[gdp['CYQ'].str[:4].astype(int)>= 2000]\n",
    "\n",
    "    gdp['difference_2009'] = gdp['GDP in billions of chained 2009 dollars'].diff()\n",
    "    gdp['signal'] = gdp['difference_2009'] < 0\n",
    "    gdp['signal'] = gdp['signal'].apply(lambda z:1 if z else 0)\n",
    "\n",
    "\n",
    "    # Boolean indexers for recession start and stops.\n",
    "    rec_start = (gdp['signal'] == 1) & (gdp['signal'].shift(-1) == 1)\n",
    "    rec_end = (gdp['signal'] == 0) & (gdp['signal'].shift(-1) == 0)\n",
    "\n",
    "    # Mark the recession start/stops as True/False.\n",
    "    gdp.loc[rec_start, 'recession'] = True\n",
    "    gdp.loc[rec_end, 'recession'] = False\n",
    "\n",
    "    # Forward fill the recession column with the last known Boolean.\n",
    "    # Fill any NaN's as False (i.e. locations before the first start/stop).\n",
    "    gdp['recession'] = gdp['recession'].ffill().fillna(False)\n",
    "    \n",
    "    min_gdp = gdp[gdp['recession'] == True]['GDP in billions of chained 2009 dollars'].min()\n",
    "    \n",
    "    return gdp[gdp['GDP in billions of chained 2009 dollars'] == min_gdp]['CYQ'].values[0]"
   ]
  },
  {
   "cell_type": "code",
   "execution_count": 195,
   "metadata": {},
   "outputs": [],
   "source": [
    "def convert_housing_data_to_quarters():\n",
    "    '''Converts the housing data to quarters and returns it as mean \n",
    "    values in a dataframe. This dataframe should be a dataframe with\n",
    "    columns for 2000q1 through 2016q3, and should have a multi-index\n",
    "    in the shape of [\"State\",\"RegionName\"].\n",
    "    \n",
    "    Note: Quarters are defined in the assignment description, they are\n",
    "    not arbitrary three month periods.\n",
    "    \n",
    "    The resul\n",
    "    ting dataframe should have 67 columns, and 10,730 rows.\n",
    "    '''\n",
    "    house = pd.read_csv('City_Zhvi_AllHomes.csv')\n",
    "    df = house.copy().drop(['RegionID', 'RegionName', 'State',\n",
    "                            'Metro', 'CountyName', 'SizeRank'],\n",
    "                           axis=1)\n",
    "\n",
    "    df = (df.groupby(pd.PeriodIndex(df.columns, freq='Q'), axis=1)\n",
    "          .mean()\n",
    "          .iloc[:, 15:])\n",
    "    # df['RegionName'] = house['RegionName']\n",
    "\n",
    "    df = pd.concat([house['State'], house['RegionName'], df], axis=1)\n",
    "    \n",
    "    \n",
    "    df['State'] = df['State'].map(states)\n",
    "    df.set_index(['State', 'RegionName'], inplace=True)\n",
    "    df.columns = ['2000q1',\n",
    "                 '2000q2',\n",
    "                 '2000q3',\n",
    "                 '2000q4',\n",
    "                 '2001q1',\n",
    "                 '2001q2',\n",
    "                 '2001q3',\n",
    "                 '2001q4',\n",
    "                 '2002q1',\n",
    "                 '2002q2',\n",
    "                 '2002q3',\n",
    "                 '2002q4',\n",
    "                 '2003q1',\n",
    "                 '2003q2',\n",
    "                 '2003q3',\n",
    "                 '2003q4',\n",
    "                 '2004q1',\n",
    "                 '2004q2',\n",
    "                 '2004q3',\n",
    "                 '2004q4',\n",
    "                 '2005q1',\n",
    "                 '2005q2',\n",
    "                 '2005q3',\n",
    "                 '2005q4',\n",
    "                 '2006q1',\n",
    "                 '2006q2',\n",
    "                 '2006q3',\n",
    "                 '2006q4',\n",
    "                 '2007q1',\n",
    "                 '2007q2',\n",
    "                 '2007q3',\n",
    "                 '2007q4',\n",
    "                 '2008q1',\n",
    "                 '2008q2',\n",
    "                 '2008q3',\n",
    "                 '2008q4',\n",
    "                 '2009q1',\n",
    "                 '2009q2',\n",
    "                 '2009q3',\n",
    "                 '2009q4',\n",
    "                 '2010q1',\n",
    "                 '2010q2',\n",
    "                 '2010q3',\n",
    "                 '2010q4',\n",
    "                 '2011q1',\n",
    "                 '2011q2',\n",
    "                 '2011q3',\n",
    "                 '2011q4',\n",
    "                 '2012q1',\n",
    "                 '2012q2',\n",
    "                 '2012q3',\n",
    "                 '2012q4',\n",
    "                 '2013q1',\n",
    "                 '2013q2',\n",
    "                 '2013q3',\n",
    "                 '2013q4',\n",
    "                 '2014q1',\n",
    "                 '2014q2',\n",
    "                 '2014q3',\n",
    "                 '2014q4',\n",
    "                 '2015q1',\n",
    "                 '2015q2',\n",
    "                 '2015q3',\n",
    "                 '2015q4',\n",
    "                 '2016q1',\n",
    "                 '2016q2',\n",
    "                 '2016q3']\n",
    "    return df"
   ]
  },
  {
   "cell_type": "code",
   "execution_count": 196,
   "metadata": {},
   "outputs": [
    {
     "ename": "NameError",
     "evalue": "name 'convert_housing_frame_to_quarters' is not defined",
     "output_type": "error",
     "traceback": [
      "\u001b[0;31m---------------------------------------------------------------------------\u001b[0m",
      "\u001b[0;31mNameError\u001b[0m                                 Traceback (most recent call last)",
      "\u001b[0;32m<ipython-input-196-bf072e38f368>\u001b[0m in \u001b[0;36m<module>\u001b[0;34m()\u001b[0m\n\u001b[1;32m     45\u001b[0m     \u001b[0;32mreturn\u001b[0m \u001b[0manswer\u001b[0m\u001b[0;34m\u001b[0m\u001b[0m\n\u001b[1;32m     46\u001b[0m \u001b[0;34m\u001b[0m\u001b[0m\n\u001b[0;32m---> 47\u001b[0;31m \u001b[0mrun_ttest\u001b[0m\u001b[0;34m(\u001b[0m\u001b[0;34m)\u001b[0m\u001b[0;34m\u001b[0m\u001b[0m\n\u001b[0m",
      "\u001b[0;32m<ipython-input-196-bf072e38f368>\u001b[0m in \u001b[0;36mrun_ttest\u001b[0;34m()\u001b[0m\n\u001b[1;32m     14\u001b[0m     reduced market loss).'''\n\u001b[1;32m     15\u001b[0m \u001b[0;34m\u001b[0m\u001b[0m\n\u001b[0;32m---> 16\u001b[0;31m     \u001b[0mframe\u001b[0m \u001b[0;34m=\u001b[0m \u001b[0mconvert_housing_frame_to_quarters\u001b[0m\u001b[0;34m(\u001b[0m\u001b[0;34m)\u001b[0m\u001b[0;34m.\u001b[0m\u001b[0mcopy\u001b[0m\u001b[0;34m(\u001b[0m\u001b[0;34m)\u001b[0m\u001b[0;34m\u001b[0m\u001b[0m\n\u001b[0m\u001b[1;32m     17\u001b[0m     \u001b[0mframe\u001b[0m \u001b[0;34m=\u001b[0m \u001b[0mframe\u001b[0m\u001b[0;34m.\u001b[0m\u001b[0mloc\u001b[0m\u001b[0;34m[\u001b[0m\u001b[0;34m:\u001b[0m\u001b[0;34m,\u001b[0m\u001b[0;34m'2008q3'\u001b[0m\u001b[0;34m:\u001b[0m\u001b[0;34m'2009q2'\u001b[0m\u001b[0;34m]\u001b[0m\u001b[0;34m\u001b[0m\u001b[0m\n\u001b[1;32m     18\u001b[0m     \u001b[0mframe\u001b[0m \u001b[0;34m=\u001b[0m \u001b[0mframe\u001b[0m\u001b[0;34m.\u001b[0m\u001b[0mreset_index\u001b[0m\u001b[0;34m(\u001b[0m\u001b[0;34m)\u001b[0m\u001b[0;34m\u001b[0m\u001b[0m\n",
      "\u001b[0;31mNameError\u001b[0m: name 'convert_housing_frame_to_quarters' is not defined"
     ]
    }
   ],
   "source": [
    "def run_ttest():\n",
    "    '''First creates new data showing the decline or growth of housing prices\n",
    "    between the recession start and the recession bottom. Then runs a ttest\n",
    "    comparing the university town values to the non-university towns values, \n",
    "    return whether the alternative hypothesis (that the two groups are the same)\n",
    "    is true or not as well as the p-value of the confidence. \n",
    "    \n",
    "    Return the tuple (different, p, better) where different=True if the t-test is\n",
    "    True at a p<0.01 (we reject the null hypothesis), or different=False if \n",
    "    otherwise (we cannot reject the null hypothesis). The variable p should\n",
    "    be equal to the exact p value returned from scipy.stats.ttest_ind(). The\n",
    "    value for better should be either \"university town\" or \"non-university town\"\n",
    "    depending on which has a lower mean price ratio (which is equivilent to a\n",
    "    reduced market loss).'''\n",
    "    \n",
    "    frame = convert_housing_data_to_quarters().copy()\n",
    "    frame = frame.loc[:,'2008q3':'2009q2']\n",
    "    frame = frame.reset_index()\n",
    "    def price_ratio(row):\n",
    "        return (row['2008q3'] - row['2009q2'])/row['2008q3']\n",
    "    \n",
    "    frame['up&down'] = frame.apply(price_ratio,axis=1)\n",
    "    #uni frame \n",
    "    \n",
    "    uni_town = get_list_of_university_towns()['RegionName']\n",
    "    uni_town = set(uni_town)\n",
    "\n",
    "    def is_university_town(row):\n",
    "        if row['RegionName'] in uni_town:\n",
    "            return 1\n",
    "        else:\n",
    "            return 0\n",
    "    frame['is_uni'] = frame.apply(is_university_town,axis=1)\n",
    "    \n",
    "    \n",
    "    not_uni = frame[frame['is_uni']==0].loc[:,'up&down'].dropna()\n",
    "    is_uni  = frame[frame['is_uni']==1].loc[:,'up&down'].dropna()\n",
    "    def better():\n",
    "        if not_uni.mean() < is_uni.mean():\n",
    "            return 'non-university town'\n",
    "        else:\n",
    "            return 'university town'\n",
    "    pVal = list(ttest_ind(not_uni, is_uni))[1]\n",
    "    answer = (True,pVal,better())\n",
    "    return answer"
   ]
  },
  {
   "cell_type": "code",
   "execution_count": null,
   "metadata": {
    "collapsed": true
   },
   "outputs": [],
   "source": []
  }
 ],
 "metadata": {
  "coursera": {
   "course_slug": "python-data-analysis",
   "graded_item_id": "Il9Fx",
   "launcher_item_id": "TeDW0",
   "part_id": "WGlun"
  },
  "kernelspec": {
   "display_name": "Python 3",
   "language": "python",
   "name": "python3"
  },
  "language_info": {
   "codemirror_mode": {
    "name": "ipython",
    "version": 3
   },
   "file_extension": ".py",
   "mimetype": "text/x-python",
   "name": "python",
   "nbconvert_exporter": "python",
   "pygments_lexer": "ipython3",
   "version": "3.6.3"
  }
 },
 "nbformat": 4,
 "nbformat_minor": 1
}
